{
 "cells": [
  {
   "cell_type": "code",
   "execution_count": 1,
   "metadata": {},
   "outputs": [],
   "source": [
    "# %matplotlib notebook\n",
    "import matplotlib.pyplot as plt\n",
    "import matplotlib.animation as animation"
   ]
  },
  {
   "cell_type": "code",
   "execution_count": 2,
   "metadata": {},
   "outputs": [],
   "source": [
    "import torch\n",
    "import argparse\n",
    "import random\n",
    "from torch import nn\n",
    "from torch.nn import functional as F\n",
    "import os\n",
    "from pathlib import Path\n",
    "import numpy as np\n",
    "import torch.optim as optim\n",
    "from torchvision.transforms.transforms import RandomApply\n",
    "from core.transforms import GaussianBlur, TwoCropsTransform\n",
    "from core.custom_dataset import DatasetFolderSorted, ImageFolderSorted\n",
    "from torchvision import transforms, datasets\n",
    "from torch.utils.data import DataLoader, Dataset\n",
    "from agents.net import MLP, Encoder"
   ]
  },
  {
   "cell_type": "code",
   "execution_count": 3,
   "metadata": {},
   "outputs": [
    {
     "data": {
      "image/png": "[encoded data removed]",
      "text/plain": [
       "<Figure size 432x288 with 2 Axes>"
      ]
     },
     "metadata": {
      "needs_background": "light"
     },
     "output_type": "display_data"
    }
   ],
   "source": [
    "from core.utils import load_demo\n",
    "d = load_demo('demos/MiniWorld-Hallway-v0/agent/demo_1635805980.pickle')\n",
    "d.play()"
   ]
  },
  {
   "cell_type": "code",
   "execution_count": 4,
   "metadata": {},
   "outputs": [],
   "source": [
    "# !python -m agents.behavior_clone --data_path dataset/MiniWorld-Hallway-v0"
   ]
  },
  {
   "cell_type": "code",
   "execution_count": 5,
   "metadata": {},
   "outputs": [],
   "source": [
    "# train_dataset = datasets.ImageFolder('dataset/MiniWorld-Hallway-v0')\n",
    "normalizer = transforms.Normalize(mean=[0.485, 0.456, 0.406],\n",
    "                                std=[0.229, 0.224, 0.225])\n",
    "\n",
    "train_dataset = ImageFolderSorted(\n",
    "    'dataset/MiniWorld-FourRooms-v0/agent/D300',\n",
    "    transforms.Compose([\n",
    "        transforms.Resize((224, 224)),\n",
    "        transforms.ToTensor(),\n",
    "        normalizer\n",
    "    ])\n",
    ")"
   ]
  },
  {
   "cell_type": "code",
   "execution_count": 6,
   "metadata": {},
   "outputs": [
    {
     "name": "stdout",
     "output_type": "stream",
     "text": [
      "0 torch.Size([3, 224, 224]) 0\n",
      "15 torch.Size([3, 224, 224]) 2\n",
      "26 torch.Size([3, 224, 224]) 1\n",
      "6911 torch.Size([3, 224, 224]) 4\n",
      "10277 torch.Size([3, 224, 224]) 3\n"
     ]
    },
    {
     "data": {
      "text/plain": [
       "2"
      ]
     },
     "execution_count": 6,
     "metadata": {},
     "output_type": "execute_result"
    }
   ],
   "source": [
    "from IPython.display import display\n",
    "i = 0\n",
    "label_seen = set()\n",
    "ylist = []\n",
    "for d, y in train_dataset:\n",
    "    if y not in label_seen:\n",
    "        print(i, d.size(), y)\n",
    "        label_seen.add(y)\n",
    "    i+= 1\n",
    "    ylist.append(y)\n",
    "    # if i > 3:\n",
    "    #     break\n",
    "ylist[43]"
   ]
  },
  {
   "cell_type": "code",
   "execution_count": 7,
   "metadata": {},
   "outputs": [
    {
     "data": {
      "text/plain": [
       "['0', '1', '2', '3', '7']"
      ]
     },
     "execution_count": 7,
     "metadata": {},
     "output_type": "execute_result"
    }
   ],
   "source": [
    "train_dataset.classes"
   ]
  },
  {
   "cell_type": "code",
   "execution_count": 8,
   "metadata": {},
   "outputs": [],
   "source": [
    "class TCN_Train_Dataset(Dataset):\n",
    "    def __init__(self, image_path, positive_frame_margin=10, negative_frame_margin=50, transform=None):\n",
    "        super(TCN_Train_Dataset, self).__init__()\n",
    "        self.data = ImageFolderSorted(image_path, transform)\n",
    "        self.positive_frame_margin = positive_frame_margin\n",
    "        self.negative_frame_margin = negative_frame_margin\n",
    "\n",
    "    def __getitem__(self, idx):\n",
    "        anchor_idx = idx\n",
    "        p_idx = self.sample_positive_frame_index(idx)\n",
    "        n_idx = self.sample_negative_frame_indices(idx)\n",
    "        return {'anchor': self.data[anchor_idx],\n",
    "                \"positive\": self.data[p_idx],\n",
    "                \"negative\": self.data[n_idx]}\n",
    "\n",
    "    def sample_positive_frame_index(self, anchor_index):\n",
    "        lower_bound = max(0, anchor_index - self.positive_frame_margin)\n",
    "        range1 = np.arange(lower_bound, anchor_index)\n",
    "        upper_bound = min(len(self.data), anchor_index + self.positive_frame_margin)\n",
    "        range2 = np.arange(anchor_index + 1, upper_bound)\n",
    "        return np.random.choice(np.concatenate([range1, range2]))\n",
    "\n",
    "    def sample_negative_frame_indices(self, anchor_index):\n",
    "        video_length = len(self.data)\n",
    "        lower_bound = 0\n",
    "        upper_bound = max(0, anchor_index - self.negative_frame_margin)\n",
    "        range1 = np.arange(lower_bound, upper_bound)\n",
    "        lower_bound = min(anchor_index + self.negative_frame_margin, video_length)\n",
    "        upper_bound = video_length\n",
    "        range2 = np.arange(lower_bound, upper_bound)\n",
    "        range_options = np.concatenate([range1, range2])\n",
    "        return np.random.choice(range_options)\n",
    "\n",
    "    def __len__(self):\n",
    "        return len(self.data)"
   ]
  },
  {
   "cell_type": "code",
   "execution_count": 9,
   "metadata": {},
   "outputs": [],
   "source": [
    "train_set = TCN_Train_Dataset('dataset/MiniWorld-Hallway-v0/agent/D250', transform=transforms.Compose([\n",
    "                                                                            transforms.Resize((50, 50)),\n",
    "                                                                            transforms.ToTensor(),\n",
    "                                                                            normalizer\n",
    "                                                                        ]))"
   ]
  },
  {
   "cell_type": "code",
   "execution_count": 10,
   "metadata": {},
   "outputs": [
    {
     "name": "stdout",
     "output_type": "stream",
     "text": [
      "anchor torch.Size([3, 50, 50]) 2\n",
      "positive torch.Size([3, 50, 50]) 2\n",
      "negative torch.Size([3, 50, 50]) 2\n"
     ]
    }
   ],
   "source": [
    "for name, (x, y) in train_set[0].items():\n",
    "    print(name, x.size(), y)"
   ]
  },
  {
   "cell_type": "code",
   "execution_count": 11,
   "metadata": {},
   "outputs": [],
   "source": [
    "data_loader = DataLoader(dataset=train_set, batch_size=32, shuffle=True)"
   ]
  },
  {
   "cell_type": "code",
   "execution_count": 12,
   "metadata": {},
   "outputs": [
    {
     "data": {
      "text/plain": [
       "Sequential(\n",
       "  (0): Encoder(\n",
       "    (conv1): Conv2d(3, 6, kernel_size=(7, 7), stride=(1, 1))\n",
       "    (pool): MaxPool2d(kernel_size=2, stride=2, padding=0, dilation=1, ceil_mode=False)\n",
       "    (conv2): Conv2d(6, 10, kernel_size=(7, 7), stride=(1, 1))\n",
       "    (conv3): Conv2d(10, 16, kernel_size=(7, 7), stride=(1, 1))\n",
       "    (fc1): Linear(in_features=1600, out_features=256, bias=True)\n",
       "    (fc2): Linear(in_features=256, out_features=128, bias=True)\n",
       "  )\n",
       ")"
      ]
     },
     "execution_count": 12,
     "metadata": {},
     "output_type": "execute_result"
    }
   ],
   "source": [
    "model = nn.Sequential(Encoder()).cuda()\n",
    "model"
   ]
  },
  {
   "cell_type": "code",
   "execution_count": 13,
   "metadata": {},
   "outputs": [],
   "source": [
    "class Encoder_2(nn.Module):\n",
    "    def __init__(self, dim=128) -> None:\n",
    "        super().__init__()\n",
    "        # In: 3x50x50\n",
    "        self.conv1 = nn.Conv2d(3, 6, 7) # Out:   6x44x44\n",
    "        self.pool = nn.MaxPool2d(2, 2)  # Out:   6x22x22\n",
    "        self.conv2 = nn.Conv2d(6, 10, 7) # Out: 10x16x16\n",
    "        self.conv3 = nn.Conv2d(10, 16, 7) # Out: 16x10x10\n",
    "        self.fc1 = nn.Linear(16 * 10 * 10, 256)\n",
    "        self.fc2 = nn.Linear(256, dim)\n",
    "    \n",
    "    def forward(self, x):\n",
    "        x = self.pool(F.relu(self.conv1(x)))\n",
    "        x = F.relu(self.conv2(x))\n",
    "        x = F.relu(self.conv3(x))\n",
    "        x = torch.flatten(x, 1)\n",
    "        x = self.fc1(x)\n",
    "        x = self.fc2(x)\n",
    "        return x"
   ]
  },
  {
   "cell_type": "code",
   "execution_count": 14,
   "metadata": {},
   "outputs": [],
   "source": [
    "class Normalize_Net(nn.Module):\n",
    "    def forward(self, x):\n",
    "        buffer = torch.pow(x, 2)\n",
    "        normp = torch.sum(buffer, 1).add_(1e-10)\n",
    "        normalization_constant = torch.sqrt(normp)\n",
    "        output = torch.div(x, normalization_constant.view(-1, 1).expand_as(x))\n",
    "        return output\n",
    "model = nn.Sequential(Encoder_2(), Normalize_Net()).cuda()"
   ]
  },
  {
   "cell_type": "code",
   "execution_count": 15,
   "metadata": {},
   "outputs": [],
   "source": [
    "def distance(x1, x2):\n",
    "    # diff = torch.abs(x1 - x2)\n",
    "    # return torch.pow(diff, 2)\n",
    "    # return torch.cdist(x1, x2, p=2)\n",
    "    return (x1 - x2).pow(2)\n",
    "\n",
    "# def triplet_loss(margin, d_positive, d_negative):\n",
    "#     loss = torch.clamp(margin + d_positive - d_negative, min=0.0).mean()\n",
    "#     return loss\n",
    "\n",
    "# triplet_loss = nn.TripletMarginLoss(margin=margin)"
   ]
  },
  {
   "cell_type": "code",
   "execution_count": 16,
   "metadata": {},
   "outputs": [
    {
     "name": "stdout",
     "output_type": "stream",
     "text": [
      "Epoch 0 started\n"
     ]
    },
    {
     "data": {
      "application/vnd.jupyter.widget-view+json": {
       "model_id": "b444124f458f44fa8fdb59b9c8f3e4ae",
       "version_major": 2,
       "version_minor": 0
      },
      "text/plain": [
       "  0%|          | 0/288 [00:00<?, ?it/s]"
      ]
     },
     "metadata": {},
     "output_type": "display_data"
    },
    {
     "name": "stdout",
     "output_type": "stream",
     "text": [
      "Epoch 1 started\n"
     ]
    },
    {
     "data": {
      "application/vnd.jupyter.widget-view+json": {
       "model_id": "5fccf256a4464fa8984b1e40316271ae",
       "version_major": 2,
       "version_minor": 0
      },
      "text/plain": [
       "  0%|          | 0/288 [00:00<?, ?it/s]"
      ]
     },
     "metadata": {},
     "output_type": "display_data"
    },
    {
     "name": "stdout",
     "output_type": "stream",
     "text": [
      "Epoch 2 started\n"
     ]
    },
    {
     "data": {
      "application/vnd.jupyter.widget-view+json": {
       "model_id": "e8f26dc996eb4679b75e9b29261bab96",
       "version_major": 2,
       "version_minor": 0
      },
      "text/plain": [
       "  0%|          | 0/288 [00:00<?, ?it/s]"
      ]
     },
     "metadata": {},
     "output_type": "display_data"
    },
    {
     "name": "stdout",
     "output_type": "stream",
     "text": [
      "Epoch 3 started\n"
     ]
    },
    {
     "data": {
      "application/vnd.jupyter.widget-view+json": {
       "model_id": "dc21bf5dea6f49efb64ff54d224c7f46",
       "version_major": 2,
       "version_minor": 0
      },
      "text/plain": [
       "  0%|          | 0/288 [00:00<?, ?it/s]"
      ]
     },
     "metadata": {},
     "output_type": "display_data"
    },
    {
     "name": "stdout",
     "output_type": "stream",
     "text": [
      "Epoch 4 started\n"
     ]
    },
    {
     "data": {
      "application/vnd.jupyter.widget-view+json": {
       "model_id": "a37178fc36b442bd99e17974be284d03",
       "version_major": 2,
       "version_minor": 0
      },
      "text/plain": [
       "  0%|          | 0/288 [00:00<?, ?it/s]"
      ]
     },
     "metadata": {},
     "output_type": "display_data"
    },
    {
     "name": "stdout",
     "output_type": "stream",
     "text": [
      "Epoch 5 started\n"
     ]
    },
    {
     "data": {
      "application/vnd.jupyter.widget-view+json": {
       "model_id": "6b74a18845fe494fa2eb342c7d888b83",
       "version_major": 2,
       "version_minor": 0
      },
      "text/plain": [
       "  0%|          | 0/288 [00:00<?, ?it/s]"
      ]
     },
     "metadata": {},
     "output_type": "display_data"
    },
    {
     "ename": "KeyboardInterrupt",
     "evalue": "",
     "output_type": "error",
     "traceback": [
      "\u001b[0;31m---------------------------------------------------------------------------\u001b[0m",
      "\u001b[0;31mKeyboardInterrupt\u001b[0m                         Traceback (most recent call last)",
      "\u001b[0;32m/tmp/ipykernel_132683/1031743015.py\u001b[0m in \u001b[0;36m<module>\u001b[0;34m\u001b[0m\n\u001b[1;32m     31\u001b[0m \u001b[0;34m\u001b[0m\u001b[0m\n\u001b[1;32m     32\u001b[0m \u001b[0;34m\u001b[0m\u001b[0m\n\u001b[0;32m---> 33\u001b[0;31m         \u001b[0manchor_output\u001b[0m \u001b[0;34m=\u001b[0m \u001b[0mmodel\u001b[0m\u001b[0;34m(\u001b[0m\u001b[0manchor_frames\u001b[0m\u001b[0;34m.\u001b[0m\u001b[0mcuda\u001b[0m\u001b[0;34m(\u001b[0m\u001b[0;34m)\u001b[0m\u001b[0;34m)\u001b[0m\u001b[0;34m\u001b[0m\u001b[0;34m\u001b[0m\u001b[0m\n\u001b[0m\u001b[1;32m     34\u001b[0m         \u001b[0mpositive_output\u001b[0m \u001b[0;34m=\u001b[0m \u001b[0mmodel\u001b[0m\u001b[0;34m(\u001b[0m\u001b[0mpositive_frames\u001b[0m\u001b[0;34m.\u001b[0m\u001b[0mcuda\u001b[0m\u001b[0;34m(\u001b[0m\u001b[0;34m)\u001b[0m\u001b[0;34m)\u001b[0m\u001b[0;34m\u001b[0m\u001b[0;34m\u001b[0m\u001b[0m\n\u001b[1;32m     35\u001b[0m         \u001b[0mnegative_output\u001b[0m \u001b[0;34m=\u001b[0m \u001b[0mmodel\u001b[0m\u001b[0;34m(\u001b[0m\u001b[0mnegative_frames\u001b[0m\u001b[0;34m.\u001b[0m\u001b[0mcuda\u001b[0m\u001b[0;34m(\u001b[0m\u001b[0;34m)\u001b[0m\u001b[0;34m)\u001b[0m\u001b[0;34m\u001b[0m\u001b[0;34m\u001b[0m\u001b[0m\n",
      "\u001b[0;31mKeyboardInterrupt\u001b[0m: "
     ]
    }
   ],
   "source": [
    "from tqdm.notebook import trange, tqdm\n",
    "from torchvision import models\n",
    "margin = 1.0\n",
    "triplet_loss = nn.TripletMarginLoss(margin=margin)\n",
    "\n",
    "# use_cuda = torch.cuda.is_available()\n",
    "\n",
    "# tcn = create_model(use_cuda)\n",
    "\n",
    "# triplet_builder = SingleViewTripletBuilder(arguments.train_directory, IMAGE_SIZE, arguments, sample_size=200)\n",
    "\n",
    "# queue = multiprocessing.Queue(1)\n",
    "# dataset_builder_process = multiprocessing.Process(target=build_set, args=(queue, triplet_builder, logger), daemon=True)\n",
    "# dataset_builder_process.start()\n",
    "\n",
    "optimizer = optim.Adam(model.parameters(), lr=1e-4)\n",
    "# This will diminish the learning rate at the milestones.\n",
    "# 0.1, 0.01, 0.001\n",
    "# learning_rate_scheduler = lr_scheduler.MultiStepLR(optimizer, milestones=[100, 500, 1000], gamma=0.1)\n",
    "\n",
    "model = models.vgg16(num_classes=7).cuda()\n",
    "\n",
    "for epoch in range(10):\n",
    "    print('Epoch', epoch, 'started')\n",
    "    t = tqdm(data_loader)\n",
    "    losses = []\n",
    "    for batch in t:\n",
    "        anchor_frames, alabels = batch['anchor']\n",
    "        positive_frames, plabels = batch['positive']\n",
    "        negative_frames, nlabels = batch['negative']\n",
    "        \n",
    "\n",
    "        anchor_output = model(anchor_frames.cuda())\n",
    "        positive_output = model(positive_frames.cuda())\n",
    "        negative_output = model(negative_frames.cuda())\n",
    "\n",
    "        # d_positive = distance(anchor_output, positive_output)\n",
    "        # d_negative = distance(anchor_output, negative_output)\n",
    "        # print(anchor_output)\n",
    "        # print(positive_output)\n",
    "        # print(negative_output)\n",
    "        # print(d_positive)\n",
    "        # print(d_negative)\n",
    "        # input()\n",
    "        # loss = triplet_loss(margin, d_positive, d_negative)\n",
    "        loss = triplet_loss(anchor_output, positive_output, negative_output)\n",
    "        # print(d_positive.size())\n",
    "        # print(d_negative.size())\n",
    "        # print(d_positive - d_negative)\n",
    "        # print((d_positive - d_negative).mean())\n",
    "        # print(loss)\n",
    "        # input()\n",
    "        losses.append(loss.item())\n",
    "\n",
    "        optimizer.zero_grad()\n",
    "        loss.backward()\n",
    "        optimizer.step()\n",
    "\n",
    "        t.set_postfix({'loss': np.mean(losses)})\n",
    "\n",
    "    # if epoch % arguments.save_every == 0 and epoch != 0:\n",
    "    #     logger.info('Saving model.')\n",
    "    #     save_model(tcn, model_filename(arguments.model_name, epoch), arguments.model_folder)"
   ]
  }
 ],
 "metadata": {
  "interpreter": {
   "hash": "8e2e8246255a260daa8af80185d2c5cff5556d2b33472f78e1dcb326d52dc230"
  },
  "kernelspec": {
   "display_name": "Python 3.9.7 64-bit ('irl_demo': conda)",
   "language": "python",
   "name": "python3"
  },
  "language_info": {
   "codemirror_mode": {
    "name": "ipython",
    "version": 3
   },
   "file_extension": ".py",
   "mimetype": "text/x-python",
   "name": "python",
   "nbconvert_exporter": "python",
   "pygments_lexer": "ipython3",
   "version": "3.9.7"
  },
  "orig_nbformat": 4
 },
 "nbformat": 4,
 "nbformat_minor": 2
}
